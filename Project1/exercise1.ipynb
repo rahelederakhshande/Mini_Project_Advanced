{
 "cells": [
  {
   "cell_type": "markdown",
   "id": "9986a78d",
   "metadata": {},
   "source": [
    "<div style=\"color: white;padding-top:18px;text-align:left;background-color:#940B92;border-radius:15px;border: 1px solid white;\"> \n",
    "    <h4>Question 01 (OOP Introduction)(100):</h4>\n",
    "    <p> Create a Class Book\n",
    "</p>\n",
    "<p>Attributes: Should include title, author, and publication_year.</p>\n",
    "<p>Method: get_book_info(), which prints out the book's details.</p>\n",
    "</div>"
   ]
  },
  {
   "cell_type": "code",
   "execution_count": 4,
   "id": "7710ae23",
   "metadata": {},
   "outputs": [],
   "source": [
    "# write code here:\n",
    "class Book:\n",
    "    def __init__(self,title,author,publication_year):\n",
    "        self.title=title\n",
    "        self.author=author\n",
    "        self.publication_year=publication_year\n",
    "\n",
    "    def get_book_info(self):\n",
    "        print(f\"Title:{self.title},Author:{self.author},Publication_year:{self.publication_year}\")\n",
    "\n"
   ]
  },
  {
   "cell_type": "code",
   "execution_count": 6,
   "metadata": {},
   "outputs": [
    {
     "name": "stdout",
     "output_type": "stream",
     "text": [
      "Title:OOP in Python,Author:Sam Asadi,Publication_year:2020\n",
      "Title:Learning Python,Author:Tomas Andrew,Publication_year:2023\n"
     ]
    }
   ],
   "source": [
    "B1=Book(\"OOP in Python\",\"Sam Asadi\",2020)\n",
    "B2=Book(\"Learning Python\",\"Tomas Andrew\",2023)\n",
    "B1.get_book_info()\n",
    "B2.get_book_info()"
   ]
  },
  {
   "cell_type": "markdown",
   "id": "488e01d2",
   "metadata": {},
   "source": [
    "<div style=\"color: white;padding-top:18px;text-align:left;background-color:#940B92;border-radius:15px;border: 1px solid white;\"> \n",
    "    <h4>Question 02 (OOP Introduction)(100)</h4>\n",
    "<p> Create a Class Calculator</p>\n",
    "<p>Methods: Should include at least add(x, y), subtract(x, y), multiply(x, y), \n",
    "and divide(x, y). Each method performs the respective operation and \n",
    "returns the result.</p>"
   ]
  },
  {
   "cell_type": "code",
   "execution_count": 19,
   "id": "0d6db2ad",
   "metadata": {},
   "outputs": [],
   "source": [
    "# write code here:\n",
    "class Calculator:\n",
    "    def add(self,x,y):\n",
    "        return x+y\n",
    "    def subtract(self,x,y):\n",
    "        if x>y:\n",
    "            return x-y\n",
    "        else:\n",
    "            return y-x\n",
    "    def multiply(self,x,y):\n",
    "        return x*y\n",
    "    def divide(self,x,y):\n",
    "        if x>y and y!=0:\n",
    "            return x/y\n",
    "        elif x<y and x!=0:\n",
    "            return y/x\n",
    "        else:\n",
    "            return \"Error: Cannot Divide By zero!\"\n"
   ]
  },
  {
   "cell_type": "code",
   "execution_count": 20,
   "metadata": {},
   "outputs": [
    {
     "name": "stdout",
     "output_type": "stream",
     "text": [
      "5 + 2 =7\n",
      "5 - 2 =3\n",
      "18 * 5 = 90\n",
      "20 / 5 = 4.0\n",
      "20 / 0 = Error: Cannot Divide By zero!\n"
     ]
    }
   ],
   "source": [
    "calculator=Calculator()\n",
    "result=calculator.add(5,2)\n",
    "print(f\"5 + 2 ={result}\")\n",
    "\n",
    "result=calculator.subtract(5,2)\n",
    "print(f\"5 - 2 ={result}\")\n",
    "\n",
    "result = calculator.multiply(18, 5)\n",
    "print(\"18 * 5 =\", result)\n",
    "\n",
    "result = calculator.divide(20, 5)\n",
    "print(\"20 / 5 =\", result)\n",
    "\n",
    "result = calculator.divide(20, 0)\n",
    "print(\"20 / 0 =\", result)"
   ]
  },
  {
   "cell_type": "markdown",
   "id": "021be85c",
   "metadata": {},
   "source": [
    "<div style=\"color: white;padding-top:18px;text-align:left;background-color:#940B92;border-radius:15px;border: 1px solid white;\"> \n",
    "    <h4>Question 03 (OOP Introduction)(100)</h4>\n",
    "<p><b>Class Counter</b></p>\n",
    "<p>Attribute: count, initially set to zero.</p>\n",
    "<p>Methods:</p>\n",
    " <p>increment(): Increments count by 1.</p>\n",
    " <p>decrement(): Decrements count by 1, but never below zero.</p>\n",
    " <p>reset(): Resets count to zero.</p>\n",
    " <p>get_count(): Returns the current value of count</p>\n",
    "</div>"
   ]
  },
  {
   "cell_type": "code",
   "execution_count": 47,
   "id": "32b3c29d",
   "metadata": {},
   "outputs": [],
   "source": [
    "# write code here:\n",
    "class Counter:\n",
    "    def __init__(self):\n",
    "        self.count = 0\n",
    "\n",
    "\n",
    "    def increments(self):\n",
    "        self.count +=1\n",
    "        print(f\"The Increments are:{self.count}\")\n",
    "\n",
    "    def decrements(self):\n",
    "        if self.count<=0:\n",
    "            print(\"End\")\n",
    "        else:\n",
    "            self.count -=1\n",
    "        print(f\"The Decrements are:{self.count}\")\n",
    "\n",
    "    def resets(self):\n",
    "        self.count = 0\n",
    "        print(f\"The Counter is:{self.count}\")\n",
    "\n",
    "    def get_count(self):\n",
    "        print(f\"The Current Number is:{self.count}\")    "
   ]
  },
  {
   "cell_type": "code",
   "execution_count": 49,
   "metadata": {},
   "outputs": [
    {
     "name": "stdout",
     "output_type": "stream",
     "text": [
      "The Increments are:1\n",
      "The Increments are:2\n",
      "The Increments are:3\n",
      "The Counter is:0\n",
      "The Increments are:1\n",
      "The Increments are:2\n",
      "The Increments are:3\n",
      "The Increments are:4\n",
      "The Increments are:5\n",
      "The Increments are:6\n",
      "The Current Number is:6\n",
      "The Decrements are:5\n",
      "The Decrements are:4\n",
      "The Decrements are:3\n",
      "The Current Number is:3\n",
      "The Counter is:0\n",
      "The Increments are:1\n",
      "The Increments are:2\n",
      "The Decrements are:1\n",
      "The Decrements are:0\n",
      "End\n",
      "The Decrements are:0\n"
     ]
    }
   ],
   "source": [
    "c1=Counter()\n",
    "c1.increments()\n",
    "c1.increments()\n",
    "c1.increments()\n",
    "c1.resets()\n",
    "c1.increments()\n",
    "c1.increments()\n",
    "c1.increments()\n",
    "c1.increments()\n",
    "c1.increments()\n",
    "c1.increments()\n",
    "c1.get_count()\n",
    "c1.decrements()\n",
    "c1.decrements()\n",
    "c1.decrements()\n",
    "c1.get_count()\n",
    "c1.resets()\n",
    "c1.increments()\n",
    "c1.increments()\n",
    "c1.decrements()\n",
    "c1.decrements()\n",
    "c1.decrements()\n",
    "\n",
    "\n"
   ]
  }
 ],
 "metadata": {
  "kernelspec": {
   "display_name": "Python 3 (ipykernel)",
   "language": "python",
   "name": "python3"
  },
  "language_info": {
   "codemirror_mode": {
    "name": "ipython",
    "version": 3
   },
   "file_extension": ".py",
   "mimetype": "text/x-python",
   "name": "python",
   "nbconvert_exporter": "python",
   "pygments_lexer": "ipython3",
   "version": "3.12.0"
  }
 },
 "nbformat": 4,
 "nbformat_minor": 5
}
